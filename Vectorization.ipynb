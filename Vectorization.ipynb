{
  "nbformat": 4,
  "nbformat_minor": 0,
  "metadata": {
    "colab": {
      "name": "Vectorization.ipynb",
      "provenance": [],
      "collapsed_sections": [],
      "authorship_tag": "ABX9TyMg73CkPKsA+a8iBViNbOiA",
      "include_colab_link": true
    },
    "kernelspec": {
      "name": "python3",
      "display_name": "Python 3"
    }
  },
  "cells": [
    {
      "cell_type": "markdown",
      "metadata": {
        "id": "view-in-github",
        "colab_type": "text"
      },
      "source": [
        "<a href=\"https://colab.research.google.com/github/khushimittal0108/DeepLearning/blob/Neural-Network-And-Deep-Learning/Vectorization.ipynb\" target=\"_parent\"><img src=\"https://colab.research.google.com/assets/colab-badge.svg\" alt=\"Open In Colab\"/></a>"
      ]
    },
    {
      "cell_type": "code",
      "metadata": {
        "id": "0M9Is1pX0WE9",
        "colab_type": "code",
        "colab": {
          "base_uri": "https://localhost:8080/",
          "height": 84
        },
        "outputId": "595ea9ff-59d3-45e1-b0da-f2b7d1aa77cd"
      },
      "source": [
        "import numpy as np\n",
        "import time\n",
        "\n",
        "a=np.random.rand(1000000)\n",
        "b=np.random.rand(1000000)\n",
        "\n",
        "t1=time.time()\n",
        "c=np.dot(a,b)\n",
        "t2=time.time()\n",
        "\n",
        "print(c)\n",
        "print(\"vectorized implementation:\"+str((t2-t1)*1000)+\"ms\")\n",
        "\n",
        "c=0\n",
        "t1=time.time()\n",
        "for i in range(1000000):\n",
        "  c+=a[i]*b[i]\n",
        "t2=time.time()\n",
        "\n",
        "print(c)\n",
        "print(\"Non-vectorized implementation:\"+str((t2-t1)*1000)+\"ms\")\n"
      ],
      "execution_count": 4,
      "outputs": [
        {
          "output_type": "stream",
          "text": [
            "249922.27738147686\n",
            "vectorized implementation:1.4569759368896484ms\n",
            "249922.277381478\n",
            "Non-vectorized implementation:684.6628189086914ms\n"
          ],
          "name": "stdout"
        }
      ]
    },
    {
      "cell_type": "code",
      "metadata": {
        "id": "-2iwsjGv2qCl",
        "colab_type": "code",
        "colab": {}
      },
      "source": [
        ""
      ],
      "execution_count": 0,
      "outputs": []
    }
  ]
}